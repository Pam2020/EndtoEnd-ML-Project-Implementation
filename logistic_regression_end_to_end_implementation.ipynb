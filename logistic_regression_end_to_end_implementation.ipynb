{
  "cells": [
    {
      "cell_type": "markdown",
      "metadata": {
        "id": "jMAaFMGGsgd-"
      },
      "source": [
        "# Logistic Regression\n",
        "\n",
        "Predicting if a particular employee is with the company or not. "
      ]
    },
    {
      "cell_type": "code",
      "execution_count": 2,
      "metadata": {
        "colab": {
          "base_uri": "https://localhost:8080/",
          "height": 357
        },
        "id": "S-E52cuzsgeF",
        "outputId": "71347614-e865-4329-cf02-61c45f782045"
      },
      "outputs": [
        {
          "data": {
            "text/html": [
              "\n",
              "  <div id=\"df-4ec61d19-594d-4835-bd82-214352938bb6\">\n",
              "    <div class=\"colab-df-container\">\n",
              "      <div>\n",
              "<style scoped>\n",
              "    .dataframe tbody tr th:only-of-type {\n",
              "        vertical-align: middle;\n",
              "    }\n",
              "\n",
              "    .dataframe tbody tr th {\n",
              "        vertical-align: top;\n",
              "    }\n",
              "\n",
              "    .dataframe thead th {\n",
              "        text-align: right;\n",
              "    }\n",
              "</style>\n",
              "<table border=\"1\" class=\"dataframe\">\n",
              "  <thead>\n",
              "    <tr style=\"text-align: right;\">\n",
              "      <th></th>\n",
              "      <th>left_company</th>\n",
              "      <th>age</th>\n",
              "      <th>frequency_of_travel</th>\n",
              "      <th>department</th>\n",
              "      <th>commuting_distance</th>\n",
              "      <th>education</th>\n",
              "      <th>satisfaction_with_environment</th>\n",
              "      <th>gender</th>\n",
              "      <th>seniority_level</th>\n",
              "      <th>position</th>\n",
              "      <th>satisfaction_with_job</th>\n",
              "      <th>married_or_single</th>\n",
              "      <th>last_raise_pct</th>\n",
              "      <th>last_performance_rating</th>\n",
              "      <th>total_years_working</th>\n",
              "      <th>years_at_company</th>\n",
              "      <th>years_in_current_job</th>\n",
              "      <th>years_since_last_promotion</th>\n",
              "      <th>years_with_current_supervisor</th>\n",
              "    </tr>\n",
              "  </thead>\n",
              "  <tbody>\n",
              "    <tr>\n",
              "      <th>0</th>\n",
              "      <td>No</td>\n",
              "      <td>37</td>\n",
              "      <td>Travel_Rarely</td>\n",
              "      <td>Sales</td>\n",
              "      <td>16</td>\n",
              "      <td>4</td>\n",
              "      <td>4</td>\n",
              "      <td>Male</td>\n",
              "      <td>2</td>\n",
              "      <td>Sales Executive</td>\n",
              "      <td>3</td>\n",
              "      <td>Divorced</td>\n",
              "      <td>19</td>\n",
              "      <td>3</td>\n",
              "      <td>9</td>\n",
              "      <td>1</td>\n",
              "      <td>0</td>\n",
              "      <td>0</td>\n",
              "      <td>0</td>\n",
              "    </tr>\n",
              "    <tr>\n",
              "      <th>1</th>\n",
              "      <td>No</td>\n",
              "      <td>39</td>\n",
              "      <td>Travel_Rarely</td>\n",
              "      <td>Research &amp; Development</td>\n",
              "      <td>3</td>\n",
              "      <td>2</td>\n",
              "      <td>3</td>\n",
              "      <td>Male</td>\n",
              "      <td>2</td>\n",
              "      <td>Laboratory Technician</td>\n",
              "      <td>3</td>\n",
              "      <td>Divorced</td>\n",
              "      <td>15</td>\n",
              "      <td>3</td>\n",
              "      <td>11</td>\n",
              "      <td>10</td>\n",
              "      <td>8</td>\n",
              "      <td>0</td>\n",
              "      <td>7</td>\n",
              "    </tr>\n",
              "    <tr>\n",
              "      <th>2</th>\n",
              "      <td>No</td>\n",
              "      <td>52</td>\n",
              "      <td>Travel_Frequently</td>\n",
              "      <td>Research &amp; Development</td>\n",
              "      <td>25</td>\n",
              "      <td>4</td>\n",
              "      <td>3</td>\n",
              "      <td>Female</td>\n",
              "      <td>4</td>\n",
              "      <td>Manufacturing Director</td>\n",
              "      <td>4</td>\n",
              "      <td>Married</td>\n",
              "      <td>22</td>\n",
              "      <td>4</td>\n",
              "      <td>31</td>\n",
              "      <td>9</td>\n",
              "      <td>8</td>\n",
              "      <td>0</td>\n",
              "      <td>0</td>\n",
              "    </tr>\n",
              "    <tr>\n",
              "      <th>3</th>\n",
              "      <td>No</td>\n",
              "      <td>50</td>\n",
              "      <td>Non-Travel</td>\n",
              "      <td>Sales</td>\n",
              "      <td>1</td>\n",
              "      <td>3</td>\n",
              "      <td>4</td>\n",
              "      <td>Female</td>\n",
              "      <td>2</td>\n",
              "      <td>Sales Executive</td>\n",
              "      <td>3</td>\n",
              "      <td>Married</td>\n",
              "      <td>12</td>\n",
              "      <td>3</td>\n",
              "      <td>19</td>\n",
              "      <td>18</td>\n",
              "      <td>7</td>\n",
              "      <td>0</td>\n",
              "      <td>13</td>\n",
              "    </tr>\n",
              "    <tr>\n",
              "      <th>4</th>\n",
              "      <td>No</td>\n",
              "      <td>44</td>\n",
              "      <td>Travel_Rarely</td>\n",
              "      <td>Research &amp; Development</td>\n",
              "      <td>4</td>\n",
              "      <td>3</td>\n",
              "      <td>4</td>\n",
              "      <td>Male</td>\n",
              "      <td>2</td>\n",
              "      <td>Healthcare Representative</td>\n",
              "      <td>2</td>\n",
              "      <td>Single</td>\n",
              "      <td>12</td>\n",
              "      <td>3</td>\n",
              "      <td>10</td>\n",
              "      <td>5</td>\n",
              "      <td>2</td>\n",
              "      <td>2</td>\n",
              "      <td>3</td>\n",
              "    </tr>\n",
              "  </tbody>\n",
              "</table>\n",
              "</div>\n",
              "      <button class=\"colab-df-convert\" onclick=\"convertToInteractive('df-4ec61d19-594d-4835-bd82-214352938bb6')\"\n",
              "              title=\"Convert this dataframe to an interactive table.\"\n",
              "              style=\"display:none;\">\n",
              "        \n",
              "  <svg xmlns=\"http://www.w3.org/2000/svg\" height=\"24px\"viewBox=\"0 0 24 24\"\n",
              "       width=\"24px\">\n",
              "    <path d=\"M0 0h24v24H0V0z\" fill=\"none\"/>\n",
              "    <path d=\"M18.56 5.44l.94 2.06.94-2.06 2.06-.94-2.06-.94-.94-2.06-.94 2.06-2.06.94zm-11 1L8.5 8.5l.94-2.06 2.06-.94-2.06-.94L8.5 2.5l-.94 2.06-2.06.94zm10 10l.94 2.06.94-2.06 2.06-.94-2.06-.94-.94-2.06-.94 2.06-2.06.94z\"/><path d=\"M17.41 7.96l-1.37-1.37c-.4-.4-.92-.59-1.43-.59-.52 0-1.04.2-1.43.59L10.3 9.45l-7.72 7.72c-.78.78-.78 2.05 0 2.83L4 21.41c.39.39.9.59 1.41.59.51 0 1.02-.2 1.41-.59l7.78-7.78 2.81-2.81c.8-.78.8-2.07 0-2.86zM5.41 20L4 18.59l7.72-7.72 1.47 1.35L5.41 20z\"/>\n",
              "  </svg>\n",
              "      </button>\n",
              "      \n",
              "  <style>\n",
              "    .colab-df-container {\n",
              "      display:flex;\n",
              "      flex-wrap:wrap;\n",
              "      gap: 12px;\n",
              "    }\n",
              "\n",
              "    .colab-df-convert {\n",
              "      background-color: #E8F0FE;\n",
              "      border: none;\n",
              "      border-radius: 50%;\n",
              "      cursor: pointer;\n",
              "      display: none;\n",
              "      fill: #1967D2;\n",
              "      height: 32px;\n",
              "      padding: 0 0 0 0;\n",
              "      width: 32px;\n",
              "    }\n",
              "\n",
              "    .colab-df-convert:hover {\n",
              "      background-color: #E2EBFA;\n",
              "      box-shadow: 0px 1px 2px rgba(60, 64, 67, 0.3), 0px 1px 3px 1px rgba(60, 64, 67, 0.15);\n",
              "      fill: #174EA6;\n",
              "    }\n",
              "\n",
              "    [theme=dark] .colab-df-convert {\n",
              "      background-color: #3B4455;\n",
              "      fill: #D2E3FC;\n",
              "    }\n",
              "\n",
              "    [theme=dark] .colab-df-convert:hover {\n",
              "      background-color: #434B5C;\n",
              "      box-shadow: 0px 1px 3px 1px rgba(0, 0, 0, 0.15);\n",
              "      filter: drop-shadow(0px 1px 2px rgba(0, 0, 0, 0.3));\n",
              "      fill: #FFFFFF;\n",
              "    }\n",
              "  </style>\n",
              "\n",
              "      <script>\n",
              "        const buttonEl =\n",
              "          document.querySelector('#df-4ec61d19-594d-4835-bd82-214352938bb6 button.colab-df-convert');\n",
              "        buttonEl.style.display =\n",
              "          google.colab.kernel.accessAllowed ? 'block' : 'none';\n",
              "\n",
              "        async function convertToInteractive(key) {\n",
              "          const element = document.querySelector('#df-4ec61d19-594d-4835-bd82-214352938bb6');\n",
              "          const dataTable =\n",
              "            await google.colab.kernel.invokeFunction('convertToInteractive',\n",
              "                                                     [key], {});\n",
              "          if (!dataTable) return;\n",
              "\n",
              "          const docLinkHtml = 'Like what you see? Visit the ' +\n",
              "            '<a target=\"_blank\" href=https://colab.research.google.com/notebooks/data_table.ipynb>data table notebook</a>'\n",
              "            + ' to learn more about interactive tables.';\n",
              "          element.innerHTML = '';\n",
              "          dataTable['output_type'] = 'display_data';\n",
              "          await google.colab.output.renderOutput(dataTable, element);\n",
              "          const docLink = document.createElement('div');\n",
              "          docLink.innerHTML = docLinkHtml;\n",
              "          element.appendChild(docLink);\n",
              "        }\n",
              "      </script>\n",
              "    </div>\n",
              "  </div>\n",
              "  "
            ],
            "text/plain": [
              "  left_company  age frequency_of_travel              department  \\\n",
              "0           No   37       Travel_Rarely                   Sales   \n",
              "1           No   39       Travel_Rarely  Research & Development   \n",
              "2           No   52   Travel_Frequently  Research & Development   \n",
              "3           No   50          Non-Travel                   Sales   \n",
              "4           No   44       Travel_Rarely  Research & Development   \n",
              "\n",
              "   commuting_distance  education  satisfaction_with_environment  gender  \\\n",
              "0                  16          4                              4    Male   \n",
              "1                   3          2                              3    Male   \n",
              "2                  25          4                              3  Female   \n",
              "3                   1          3                              4  Female   \n",
              "4                   4          3                              4    Male   \n",
              "\n",
              "   seniority_level                   position  satisfaction_with_job  \\\n",
              "0                2            Sales Executive                      3   \n",
              "1                2      Laboratory Technician                      3   \n",
              "2                4     Manufacturing Director                      4   \n",
              "3                2            Sales Executive                      3   \n",
              "4                2  Healthcare Representative                      2   \n",
              "\n",
              "  married_or_single  last_raise_pct  last_performance_rating  \\\n",
              "0          Divorced              19                        3   \n",
              "1          Divorced              15                        3   \n",
              "2           Married              22                        4   \n",
              "3           Married              12                        3   \n",
              "4            Single              12                        3   \n",
              "\n",
              "   total_years_working  years_at_company  years_in_current_job  \\\n",
              "0                    9                 1                     0   \n",
              "1                   11                10                     8   \n",
              "2                   31                 9                     8   \n",
              "3                   19                18                     7   \n",
              "4                   10                 5                     2   \n",
              "\n",
              "   years_since_last_promotion  years_with_current_supervisor  \n",
              "0                           0                              0  \n",
              "1                           0                              7  \n",
              "2                           0                              0  \n",
              "3                           0                             13  \n",
              "4                           2                              3  "
            ]
          },
          "execution_count": 2,
          "metadata": {},
          "output_type": "execute_result"
        }
      ],
      "source": [
        "import pandas as pd\n",
        "import numpy as np\n",
        "import matplotlib.pyplot as plt\n",
        "%matplotlib inline\n",
        "\n",
        "df = pd.read_csv('employee-turnover-balanced.csv')\n",
        "df.head()"
      ]
    },
    {
      "cell_type": "markdown",
      "metadata": {
        "id": "mDpGHSrasgeI"
      },
      "source": [
        "## Data Definitions\n",
        "- `left_company`: Whether individual left the company or not. This is the target variable.  \n",
        "- `age`: Age of individual. \n",
        "- `frequency_of_travel`: How often person travels for work.  \n",
        "- `department`: Department person works(worked).  \n",
        "- `commuting_distance`: Distance person lives from office.  \n",
        "- `education`: Highest education category.  \n",
        "- `satisfaction_with_environment`: Satisfaction of environment, on lickert scale.  \n",
        "- `gender`: Gender of individual.  \n",
        "- `seniority_level`: Seniority level of individual.  \n",
        "- `position`: Last position held at the company.  \n",
        "- `satisfaction_with_job`: Satisfaction of their job, on lickert scale.  \n",
        "- `married_or_single`: Marital status of person.  \n",
        "- `last_raise_pct`: Percent increase their last raise represented.  \n",
        "- `last_performance_rating`: Most recent annual performance rating, on lickert scale.  \n",
        "- `total_years_working`: Number of years the individual has spent working in their career.  \n",
        "- `years_at_company`: Number of years the individual has been at the company, regardless of position.  \n",
        "- `years_in_current_job`: Number of years the individual has been in their current position.  \n",
        "- `years_since_last_promotion`: Years since the person had their last promotion.  \n",
        "- `years_with_current_supervisor`: Years the person has had their current supervisor."
      ]
    },
    {
      "cell_type": "markdown",
      "metadata": {
        "id": "9YbvOjN4sgeJ"
      },
      "source": [
        "# Question 1\n",
        "- What is the distribution of the target (`left_company`)?  \n",
        "- Do you have any concerns on class imbalances?"
      ]
    },
    {
      "cell_type": "code",
      "execution_count": 3,
      "metadata": {
        "colab": {
          "base_uri": "https://localhost:8080/",
          "height": 295
        },
        "id": "-8z_n22XsgeK",
        "outputId": "68751565-f6bb-4dbf-92d4-f23c7ee6aed5"
      },
      "outputs": [
        {
          "data": {
            "image/png": "[encoded data removed]",
            "text/plain": [
              "<Figure size 432x288 with 1 Axes>"
            ]
          },
          "metadata": {
            "needs_background": "light"
          },
          "output_type": "display_data"
        }
      ],
      "source": [
        "# insert code\n",
        "df['left_company'].value_counts().plot.barh()\n",
        "plt.title('target variable class distribution - Left company or not?')\n",
        "plt.xlabel('Count')\n",
        "plt.show()"
      ]
    },
    {
      "cell_type": "markdown",
      "metadata": {
        "id": "I6iAwHvXsgeL"
      },
      "source": [
        "> There seems to be no class imbalance as both the classes have equal representation. However, once we split this into train and test, I need to check if there is any imbalance in the train dataset. "
      ]
    },
    {
      "cell_type": "markdown",
      "metadata": {
        "id": "EFUknKPqsgeL"
      },
      "source": [
        "# Question 2\n",
        "- Create and print a list of the variables that you would treat as numerical and another list for the variables that you would treat as categorical.  \n",
        "- Explain your choices."
      ]
    },
    {
      "cell_type": "code",
      "execution_count": 4,
      "metadata": {
        "colab": {
          "base_uri": "https://localhost:8080/"
        },
        "id": "iZja4qH5sgeM",
        "outputId": "6a43f0b1-c328-41e4-aff2-9ba38e5265bf"
      },
      "outputs": [
        {
          "name": "stdout",
          "output_type": "stream",
          "text": [
            "['age', 'frequency_of_travel', 'department', 'commuting_distance', 'education', 'satisfaction_with_environment', 'gender', 'seniority_level', 'position', 'satisfaction_with_job', 'married_or_single', 'last_raise_pct', 'last_performance_rating', 'total_years_working', 'years_at_company', 'years_in_current_job', 'years_since_last_promotion', 'years_with_current_supervisor']\n"
          ]
        }
      ],
      "source": [
        "features = [x for x in df.columns if x != 'left_company']\n",
        "print(features)"
      ]
    },
    {
      "cell_type": "code",
      "execution_count": 5,
      "metadata": {
        "colab": {
          "base_uri": "https://localhost:8080/",
          "height": 357
        },
        "id": "uosxwvciX3Dy",
        "outputId": "95d80109-47cf-4177-95c9-9cf10b1dbdfe"
      },
      "outputs": [
        {
          "data": {
            "text/html": [
              "\n",
              "  <div id=\"df-757364b1-42b2-454e-bd06-4a874467e75b\">\n",
              "    <div class=\"colab-df-container\">\n",
              "      <div>\n",
              "<style scoped>\n",
              "    .dataframe tbody tr th:only-of-type {\n",
              "        vertical-align: middle;\n",
              "    }\n",
              "\n",
              "    .dataframe tbody tr th {\n",
              "        vertical-align: top;\n",
              "    }\n",
              "\n",
              "    .dataframe thead th {\n",
              "        text-align: right;\n",
              "    }\n",
              "</style>\n",
              "<table border=\"1\" class=\"dataframe\">\n",
              "  <thead>\n",
              "    <tr style=\"text-align: right;\">\n",
              "      <th></th>\n",
              "      <th>left_company</th>\n",
              "      <th>age</th>\n",
              "      <th>frequency_of_travel</th>\n",
              "      <th>department</th>\n",
              "      <th>commuting_distance</th>\n",
              "      <th>education</th>\n",
              "      <th>satisfaction_with_environment</th>\n",
              "      <th>gender</th>\n",
              "      <th>seniority_level</th>\n",
              "      <th>position</th>\n",
              "      <th>satisfaction_with_job</th>\n",
              "      <th>married_or_single</th>\n",
              "      <th>last_raise_pct</th>\n",
              "      <th>last_performance_rating</th>\n",
              "      <th>total_years_working</th>\n",
              "      <th>years_at_company</th>\n",
              "      <th>years_in_current_job</th>\n",
              "      <th>years_since_last_promotion</th>\n",
              "      <th>years_with_current_supervisor</th>\n",
              "    </tr>\n",
              "  </thead>\n",
              "  <tbody>\n",
              "    <tr>\n",
              "      <th>0</th>\n",
              "      <td>No</td>\n",
              "      <td>37</td>\n",
              "      <td>Travel_Rarely</td>\n",
              "      <td>Sales</td>\n",
              "      <td>16</td>\n",
              "      <td>4</td>\n",
              "      <td>4</td>\n",
              "      <td>Male</td>\n",
              "      <td>2</td>\n",
              "      <td>Sales Executive</td>\n",
              "      <td>3</td>\n",
              "      <td>Divorced</td>\n",
              "      <td>19</td>\n",
              "      <td>3</td>\n",
              "      <td>9</td>\n",
              "      <td>1</td>\n",
              "      <td>0</td>\n",
              "      <td>0</td>\n",
              "      <td>0</td>\n",
              "    </tr>\n",
              "    <tr>\n",
              "      <th>1</th>\n",
              "      <td>No</td>\n",
              "      <td>39</td>\n",
              "      <td>Travel_Rarely</td>\n",
              "      <td>Research &amp; Development</td>\n",
              "      <td>3</td>\n",
              "      <td>2</td>\n",
              "      <td>3</td>\n",
              "      <td>Male</td>\n",
              "      <td>2</td>\n",
              "      <td>Laboratory Technician</td>\n",
              "      <td>3</td>\n",
              "      <td>Divorced</td>\n",
              "      <td>15</td>\n",
              "      <td>3</td>\n",
              "      <td>11</td>\n",
              "      <td>10</td>\n",
              "      <td>8</td>\n",
              "      <td>0</td>\n",
              "      <td>7</td>\n",
              "    </tr>\n",
              "    <tr>\n",
              "      <th>2</th>\n",
              "      <td>No</td>\n",
              "      <td>52</td>\n",
              "      <td>Travel_Frequently</td>\n",
              "      <td>Research &amp; Development</td>\n",
              "      <td>25</td>\n",
              "      <td>4</td>\n",
              "      <td>3</td>\n",
              "      <td>Female</td>\n",
              "      <td>4</td>\n",
              "      <td>Manufacturing Director</td>\n",
              "      <td>4</td>\n",
              "      <td>Married</td>\n",
              "      <td>22</td>\n",
              "      <td>4</td>\n",
              "      <td>31</td>\n",
              "      <td>9</td>\n",
              "      <td>8</td>\n",
              "      <td>0</td>\n",
              "      <td>0</td>\n",
              "    </tr>\n",
              "    <tr>\n",
              "      <th>3</th>\n",
              "      <td>No</td>\n",
              "      <td>50</td>\n",
              "      <td>Non-Travel</td>\n",
              "      <td>Sales</td>\n",
              "      <td>1</td>\n",
              "      <td>3</td>\n",
              "      <td>4</td>\n",
              "      <td>Female</td>\n",
              "      <td>2</td>\n",
              "      <td>Sales Executive</td>\n",
              "      <td>3</td>\n",
              "      <td>Married</td>\n",
              "      <td>12</td>\n",
              "      <td>3</td>\n",
              "      <td>19</td>\n",
              "      <td>18</td>\n",
              "      <td>7</td>\n",
              "      <td>0</td>\n",
              "      <td>13</td>\n",
              "    </tr>\n",
              "    <tr>\n",
              "      <th>4</th>\n",
              "      <td>No</td>\n",
              "      <td>44</td>\n",
              "      <td>Travel_Rarely</td>\n",
              "      <td>Research &amp; Development</td>\n",
              "      <td>4</td>\n",
              "      <td>3</td>\n",
              "      <td>4</td>\n",
              "      <td>Male</td>\n",
              "      <td>2</td>\n",
              "      <td>Healthcare Representative</td>\n",
              "      <td>2</td>\n",
              "      <td>Single</td>\n",
              "      <td>12</td>\n",
              "      <td>3</td>\n",
              "      <td>10</td>\n",
              "      <td>5</td>\n",
              "      <td>2</td>\n",
              "      <td>2</td>\n",
              "      <td>3</td>\n",
              "    </tr>\n",
              "  </tbody>\n",
              "</table>\n",
              "</div>\n",
              "      <button class=\"colab-df-convert\" onclick=\"convertToInteractive('df-757364b1-42b2-454e-bd06-4a874467e75b')\"\n",
              "              title=\"Convert this dataframe to an interactive table.\"\n",
              "              style=\"display:none;\">\n",
              "        \n",
              "  <svg xmlns=\"http://www.w3.org/2000/svg\" height=\"24px\"viewBox=\"0 0 24 24\"\n",
              "       width=\"24px\">\n",
              "    <path d=\"M0 0h24v24H0V0z\" fill=\"none\"/>\n",
              "    <path d=\"M18.56 5.44l.94 2.06.94-2.06 2.06-.94-2.06-.94-.94-2.06-.94 2.06-2.06.94zm-11 1L8.5 8.5l.94-2.06 2.06-.94-2.06-.94L8.5 2.5l-.94 2.06-2.06.94zm10 10l.94 2.06.94-2.06 2.06-.94-2.06-.94-.94-2.06-.94 2.06-2.06.94z\"/><path d=\"M17.41 7.96l-1.37-1.37c-.4-.4-.92-.59-1.43-.59-.52 0-1.04.2-1.43.59L10.3 9.45l-7.72 7.72c-.78.78-.78 2.05 0 2.83L4 21.41c.39.39.9.59 1.41.59.51 0 1.02-.2 1.41-.59l7.78-7.78 2.81-2.81c.8-.78.8-2.07 0-2.86zM5.41 20L4 18.59l7.72-7.72 1.47 1.35L5.41 20z\"/>\n",
              "  </svg>\n",
              "      </button>\n",
              "      \n",
              "  <style>\n",
              "    .colab-df-container {\n",
              "      display:flex;\n",
              "      flex-wrap:wrap;\n",
              "      gap: 12px;\n",
              "    }\n",
              "\n",
              "    .colab-df-convert {\n",
              "      background-color: #E8F0FE;\n",
              "      border: none;\n",
              "      border-radius: 50%;\n",
              "      cursor: pointer;\n",
              "      display: none;\n",
              "      fill: #1967D2;\n",
              "      height: 32px;\n",
              "      padding: 0 0 0 0;\n",
              "      width: 32px;\n",
              "    }\n",
              "\n",
              "    .colab-df-convert:hover {\n",
              "      background-color: #E2EBFA;\n",
              "      box-shadow: 0px 1px 2px rgba(60, 64, 67, 0.3), 0px 1px 3px 1px rgba(60, 64, 67, 0.15);\n",
              "      fill: #174EA6;\n",
              "    }\n",
              "\n",
              "    [theme=dark] .colab-df-convert {\n",
              "      background-color: #3B4455;\n",
              "      fill: #D2E3FC;\n",
              "    }\n",
              "\n",
              "    [theme=dark] .colab-df-convert:hover {\n",
              "      background-color: #434B5C;\n",
              "      box-shadow: 0px 1px 3px 1px rgba(0, 0, 0, 0.15);\n",
              "      filter: drop-shadow(0px 1px 2px rgba(0, 0, 0, 0.3));\n",
              "      fill: #FFFFFF;\n",
              "    }\n",
              "  </style>\n",
              "\n",
              "      <script>\n",
              "        const buttonEl =\n",
              "          document.querySelector('#df-757364b1-42b2-454e-bd06-4a874467e75b button.colab-df-convert');\n",
              "        buttonEl.style.display =\n",
              "          google.colab.kernel.accessAllowed ? 'block' : 'none';\n",
              "\n",
              "        async function convertToInteractive(key) {\n",
              "          const element = document.querySelector('#df-757364b1-42b2-454e-bd06-4a874467e75b');\n",
              "          const dataTable =\n",
              "            await google.colab.kernel.invokeFunction('convertToInteractive',\n",
              "                                                     [key], {});\n",
              "          if (!dataTable) return;\n",
              "\n",
              "          const docLinkHtml = 'Like what you see? Visit the ' +\n",
              "            '<a target=\"_blank\" href=https://colab.research.google.com/notebooks/data_table.ipynb>data table notebook</a>'\n",
              "            + ' to learn more about interactive tables.';\n",
              "          element.innerHTML = '';\n",
              "          dataTable['output_type'] = 'display_data';\n",
              "          await google.colab.output.renderOutput(dataTable, element);\n",
              "          const docLink = document.createElement('div');\n",
              "          docLink.innerHTML = docLinkHtml;\n",
              "          element.appendChild(docLink);\n",
              "        }\n",
              "      </script>\n",
              "    </div>\n",
              "  </div>\n",
              "  "
            ],
            "text/plain": [
              "  left_company  age frequency_of_travel              department  \\\n",
              "0           No   37       Travel_Rarely                   Sales   \n",
              "1           No   39       Travel_Rarely  Research & Development   \n",
              "2           No   52   Travel_Frequently  Research & Development   \n",
              "3           No   50          Non-Travel                   Sales   \n",
              "4           No   44       Travel_Rarely  Research & Development   \n",
              "\n",
              "   commuting_distance  education  satisfaction_with_environment  gender  \\\n",
              "0                  16          4                              4    Male   \n",
              "1                   3          2                              3    Male   \n",
              "2                  25          4                              3  Female   \n",
              "3                   1          3                              4  Female   \n",
              "4                   4          3                              4    Male   \n",
              "\n",
              "   seniority_level                   position  satisfaction_with_job  \\\n",
              "0                2            Sales Executive                      3   \n",
              "1                2      Laboratory Technician                      3   \n",
              "2                4     Manufacturing Director                      4   \n",
              "3                2            Sales Executive                      3   \n",
              "4                2  Healthcare Representative                      2   \n",
              "\n",
              "  married_or_single  last_raise_pct  last_performance_rating  \\\n",
              "0          Divorced              19                        3   \n",
              "1          Divorced              15                        3   \n",
              "2           Married              22                        4   \n",
              "3           Married              12                        3   \n",
              "4            Single              12                        3   \n",
              "\n",
              "   total_years_working  years_at_company  years_in_current_job  \\\n",
              "0                    9                 1                     0   \n",
              "1                   11                10                     8   \n",
              "2                   31                 9                     8   \n",
              "3                   19                18                     7   \n",
              "4                   10                 5                     2   \n",
              "\n",
              "   years_since_last_promotion  years_with_current_supervisor  \n",
              "0                           0                              0  \n",
              "1                           0                              7  \n",
              "2                           0                              0  \n",
              "3                           0                             13  \n",
              "4                           2                              3  "
            ]
          },
          "execution_count": 5,
          "metadata": {},
          "output_type": "execute_result"
        }
      ],
      "source": [
        "df.head()"
      ]
    },
    {
      "cell_type": "code",
      "execution_count": 6,
      "metadata": {
        "colab": {
          "base_uri": "https://localhost:8080/"
        },
        "id": "poMdD1gLYGlD",
        "outputId": "d894263d-21ae-4e9d-a4da-d8d1ff097cbd"
      },
      "outputs": [
        {
          "name": "stdout",
          "output_type": "stream",
          "text": [
            "['frequency_of_travel', 'department', 'gender', 'position', 'married_or_single']\n",
            "['age', 'commuting_distance', 'last_raise_pct', 'total_years_working', 'years_at_company', 'years_in_current_job', 'years_since_last_promotion', 'years_with_current_supervisor']\n",
            "['education', 'satisfaction_with_environment', 'seniority_level', 'satisfaction_with_job', 'last_performance_rating']\n"
          ]
        }
      ],
      "source": [
        "encoded_categorical_vars = ['education', 'satisfaction_with_environment','seniority_level', 'satisfaction_with_job','last_performance_rating']\n",
        "numerical_vars = df[features].select_dtypes(exclude = 'object').columns.to_list()\n",
        "numerical_vars = [x for x in numerical_vars if x not in encoded_categorical_vars]\n",
        "categorical_vars = df[features].select_dtypes(include = 'object').columns.to_list()\n",
        "\n",
        "print(categorical_vars)\n",
        "print(numerical_vars)\n",
        "print(encoded_categorical_vars)"
      ]
    },
    {
      "cell_type": "code",
      "execution_count": 7,
      "metadata": {
        "colab": {
          "base_uri": "https://localhost:8080/"
        },
        "id": "GPkkJtnofUmH",
        "outputId": "6dd3311d-57bf-48ea-dbfe-9cf713a3ed12"
      },
      "outputs": [
        {
          "name": "stdout",
          "output_type": "stream",
          "text": [
            "True\n"
          ]
        }
      ],
      "source": [
        "print((len(encoded_categorical_vars) + len(numerical_vars) + len(categorical_vars)) == len(features))"
      ]
    },
    {
      "cell_type": "code",
      "execution_count": 8,
      "metadata": {
        "colab": {
          "base_uri": "https://localhost:8080/"
        },
        "id": "CdaIJFs0eMIM",
        "outputId": "6871f12b-c497-4af8-ef7b-2a1634f1363d"
      },
      "outputs": [
        {
          "name": "stdout",
          "output_type": "stream",
          "text": [
            "<class 'pandas.core.frame.DataFrame'>\n",
            "RangeIndex: 1000 entries, 0 to 999\n",
            "Data columns (total 19 columns):\n",
            " #   Column                         Non-Null Count  Dtype \n",
            "---  ------                         --------------  ----- \n",
            " 0   left_company                   1000 non-null   object\n",
            " 1   age                            1000 non-null   int64 \n",
            " 2   frequency_of_travel            1000 non-null   object\n",
            " 3   department                     1000 non-null   object\n",
            " 4   commuting_distance             1000 non-null   int64 \n",
            " 5   education                      1000 non-null   int64 \n",
            " 6   satisfaction_with_environment  1000 non-null   int64 \n",
            " 7   gender                         1000 non-null   object\n",
            " 8   seniority_level                1000 non-null   int64 \n",
            " 9   position                       1000 non-null   object\n",
            " 10  satisfaction_with_job          1000 non-null   int64 \n",
            " 11  married_or_single              1000 non-null   object\n",
            " 12  last_raise_pct                 1000 non-null   int64 \n",
            " 13  last_performance_rating        1000 non-null   int64 \n",
            " 14  total_years_working            1000 non-null   int64 \n",
            " 15  years_at_company               1000 non-null   int64 \n",
            " 16  years_in_current_job           1000 non-null   int64 \n",
            " 17  years_since_last_promotion     1000 non-null   int64 \n",
            " 18  years_with_current_supervisor  1000 non-null   int64 \n",
            "dtypes: int64(13), object(6)\n",
            "memory usage: 148.6+ KB\n"
          ]
        }
      ],
      "source": [
        "df.info()"
      ]
    },
    {
      "cell_type": "markdown",
      "metadata": {
        "id": "BSGZh8WWsgeN"
      },
      "source": [
        "> The list of encoded categorical variables are features that are categorical but have already been encoded.They are stored as integers in the dataset but they are not numerical variables. However, we still need to impute missing values in this dataset. We will treat them seperately when creating pipelines. "
      ]
    },
    {
      "cell_type": "markdown",
      "metadata": {
        "id": "r8bQ0Vb3sgeO"
      },
      "source": [
        "# Question 3\n",
        "- Determine if any numerical variables risk multicolinearity.  \n",
        "- Remove those variables (if any) from your numerical_vars list.  \n",
        "- Why did you or did not remove any?"
      ]
    },
    {
      "cell_type": "code",
      "execution_count": 9,
      "metadata": {
        "colab": {
          "base_uri": "https://localhost:8080/"
        },
        "id": "aBU58LDuAYqP",
        "outputId": "9cfe0bb4-96ae-4967-ac50-5db477df1107"
      },
      "outputs": [
        {
          "data": {
            "text/plain": [
              "18"
            ]
          },
          "execution_count": 9,
          "metadata": {},
          "output_type": "execute_result"
        }
      ],
      "source": [
        "len(features)"
      ]
    },
    {
      "cell_type": "code",
      "execution_count": 10,
      "metadata": {
        "colab": {
          "base_uri": "https://localhost:8080/"
        },
        "id": "4S9MoOb5ibAr",
        "outputId": "53a68369-26eb-4364-e80b-8efdc3798e0f"
      },
      "outputs": [
        {
          "data": {
            "text/plain": [
              "8"
            ]
          },
          "execution_count": 10,
          "metadata": {},
          "output_type": "execute_result"
        }
      ],
      "source": [
        "len(numerical_vars)"
      ]
    },
    {
      "cell_type": "code",
      "execution_count": 11,
      "metadata": {
        "colab": {
          "base_uri": "https://localhost:8080/",
          "height": 411
        },
        "id": "i2J2dpulsgeO",
        "outputId": "8cbdbc03-6beb-41cf-e631-a43f2981dd90"
      },
      "outputs": [
        {
          "data": {
            "image/png": "[encoded data removed]",
            "text/plain": [
              "<Figure size 432x288 with 2 Axes>"
            ]
          },
          "metadata": {
            "needs_background": "light"
          },
          "output_type": "display_data"
        }
      ],
      "source": [
        "# insert code here\n",
        "import seaborn as sns\n",
        "correlation_martix = df[numerical_vars].corr()\n",
        "sns.heatmap(correlation_martix, annot = True)\n",
        "plt.show()"
      ]
    },
    {
      "cell_type": "markdown",
      "metadata": {
        "id": "4VyYbHzYRoIO"
      },
      "source": [
        "> Correlation matrix shows the relationship between two variables and not with a group of variables. Variance inflation factors help show the correlation with a group of other variables and therefore is chosen to find the multicollinearity in this dataset."
      ]
    },
    {
      "cell_type": "code",
      "execution_count": 12,
      "metadata": {
        "colab": {
          "base_uri": "https://localhost:8080/",
          "height": 300
        },
        "id": "awQ4jEiZK8oA",
        "outputId": "b2956c21-edb2-4ac1-8932-92efe3c2414e"
      },
      "outputs": [
        {
          "data": {
            "text/html": [
              "\n",
              "  <div id=\"df-29ad91b6-9571-4465-8060-9e9373dad03b\">\n",
              "    <div class=\"colab-df-container\">\n",
              "      <div>\n",
              "<style scoped>\n",
              "    .dataframe tbody tr th:only-of-type {\n",
              "        vertical-align: middle;\n",
              "    }\n",
              "\n",
              "    .dataframe tbody tr th {\n",
              "        vertical-align: top;\n",
              "    }\n",
              "\n",
              "    .dataframe thead th {\n",
              "        text-align: right;\n",
              "    }\n",
              "</style>\n",
              "<table border=\"1\" class=\"dataframe\">\n",
              "  <thead>\n",
              "    <tr style=\"text-align: right;\">\n",
              "      <th></th>\n",
              "      <th>VIF</th>\n",
              "      <th>Column</th>\n",
              "    </tr>\n",
              "  </thead>\n",
              "  <tbody>\n",
              "    <tr>\n",
              "      <th>0</th>\n",
              "      <td>16.669850</td>\n",
              "      <td>age</td>\n",
              "    </tr>\n",
              "    <tr>\n",
              "      <th>2</th>\n",
              "      <td>10.656507</td>\n",
              "      <td>last_raise_pct</td>\n",
              "    </tr>\n",
              "    <tr>\n",
              "      <th>4</th>\n",
              "      <td>9.588173</td>\n",
              "      <td>years_at_company</td>\n",
              "    </tr>\n",
              "    <tr>\n",
              "      <th>5</th>\n",
              "      <td>7.656341</td>\n",
              "      <td>years_in_current_job</td>\n",
              "    </tr>\n",
              "    <tr>\n",
              "      <th>3</th>\n",
              "      <td>7.622769</td>\n",
              "      <td>total_years_working</td>\n",
              "    </tr>\n",
              "    <tr>\n",
              "      <th>7</th>\n",
              "      <td>6.888652</td>\n",
              "      <td>years_with_current_supervisor</td>\n",
              "    </tr>\n",
              "    <tr>\n",
              "      <th>6</th>\n",
              "      <td>2.590716</td>\n",
              "      <td>years_since_last_promotion</td>\n",
              "    </tr>\n",
              "    <tr>\n",
              "      <th>1</th>\n",
              "      <td>2.389730</td>\n",
              "      <td>commuting_distance</td>\n",
              "    </tr>\n",
              "  </tbody>\n",
              "</table>\n",
              "</div>\n",
              "      <button class=\"colab-df-convert\" onclick=\"convertToInteractive('df-29ad91b6-9571-4465-8060-9e9373dad03b')\"\n",
              "              title=\"Convert this dataframe to an interactive table.\"\n",
              "              style=\"display:none;\">\n",
              "        \n",
              "  <svg xmlns=\"http://www.w3.org/2000/svg\" height=\"24px\"viewBox=\"0 0 24 24\"\n",
              "       width=\"24px\">\n",
              "    <path d=\"M0 0h24v24H0V0z\" fill=\"none\"/>\n",
              "    <path d=\"M18.56 5.44l.94 2.06.94-2.06 2.06-.94-2.06-.94-.94-2.06-.94 2.06-2.06.94zm-11 1L8.5 8.5l.94-2.06 2.06-.94-2.06-.94L8.5 2.5l-.94 2.06-2.06.94zm10 10l.94 2.06.94-2.06 2.06-.94-2.06-.94-.94-2.06-.94 2.06-2.06.94z\"/><path d=\"M17.41 7.96l-1.37-1.37c-.4-.4-.92-.59-1.43-.59-.52 0-1.04.2-1.43.59L10.3 9.45l-7.72 7.72c-.78.78-.78 2.05 0 2.83L4 21.41c.39.39.9.59 1.41.59.51 0 1.02-.2 1.41-.59l7.78-7.78 2.81-2.81c.8-.78.8-2.07 0-2.86zM5.41 20L4 18.59l7.72-7.72 1.47 1.35L5.41 20z\"/>\n",
              "  </svg>\n",
              "      </button>\n",
              "      \n",
              "  <style>\n",
              "    .colab-df-container {\n",
              "      display:flex;\n",
              "      flex-wrap:wrap;\n",
              "      gap: 12px;\n",
              "    }\n",
              "\n",
              "    .colab-df-convert {\n",
              "      background-color: #E8F0FE;\n",
              "      border: none;\n",
              "      border-radius: 50%;\n",
              "      cursor: pointer;\n",
              "      display: none;\n",
              "      fill: #1967D2;\n",
              "      height: 32px;\n",
              "      padding: 0 0 0 0;\n",
              "      width: 32px;\n",
              "    }\n",
              "\n",
              "    .colab-df-convert:hover {\n",
              "      background-color: #E2EBFA;\n",
              "      box-shadow: 0px 1px 2px rgba(60, 64, 67, 0.3), 0px 1px 3px 1px rgba(60, 64, 67, 0.15);\n",
              "      fill: #174EA6;\n",
              "    }\n",
              "\n",
              "    [theme=dark] .colab-df-convert {\n",
              "      background-color: #3B4455;\n",
              "      fill: #D2E3FC;\n",
              "    }\n",
              "\n",
              "    [theme=dark] .colab-df-convert:hover {\n",
              "      background-color: #434B5C;\n",
              "      box-shadow: 0px 1px 3px 1px rgba(0, 0, 0, 0.15);\n",
              "      filter: drop-shadow(0px 1px 2px rgba(0, 0, 0, 0.3));\n",
              "      fill: #FFFFFF;\n",
              "    }\n",
              "  </style>\n",
              "\n",
              "      <script>\n",
              "        const buttonEl =\n",
              "          document.querySelector('#df-29ad91b6-9571-4465-8060-9e9373dad03b button.colab-df-convert');\n",
              "        buttonEl.style.display =\n",
              "          google.colab.kernel.accessAllowed ? 'block' : 'none';\n",
              "\n",
              "        async function convertToInteractive(key) {\n",
              "          const element = document.querySelector('#df-29ad91b6-9571-4465-8060-9e9373dad03b');\n",
              "          const dataTable =\n",
              "            await google.colab.kernel.invokeFunction('convertToInteractive',\n",
              "                                                     [key], {});\n",
              "          if (!dataTable) return;\n",
              "\n",
              "          const docLinkHtml = 'Like what you see? Visit the ' +\n",
              "            '<a target=\"_blank\" href=https://colab.research.google.com/notebooks/data_table.ipynb>data table notebook</a>'\n",
              "            + ' to learn more about interactive tables.';\n",
              "          element.innerHTML = '';\n",
              "          dataTable['output_type'] = 'display_data';\n",
              "          await google.colab.output.renderOutput(dataTable, element);\n",
              "          const docLink = document.createElement('div');\n",
              "          docLink.innerHTML = docLinkHtml;\n",
              "          element.appendChild(docLink);\n",
              "        }\n",
              "      </script>\n",
              "    </div>\n",
              "  </div>\n",
              "  "
            ],
            "text/plain": [
              "         VIF                         Column\n",
              "0  16.669850                            age\n",
              "2  10.656507                 last_raise_pct\n",
              "4   9.588173               years_at_company\n",
              "5   7.656341           years_in_current_job\n",
              "3   7.622769            total_years_working\n",
              "7   6.888652  years_with_current_supervisor\n",
              "6   2.590716     years_since_last_promotion\n",
              "1   2.389730             commuting_distance"
            ]
          },
          "execution_count": 12,
          "metadata": {},
          "output_type": "execute_result"
        }
      ],
      "source": [
        "from statsmodels.stats.outliers_influence import variance_inflation_factor\n",
        "\n",
        "X = df[numerical_vars]\n",
        "\n",
        "vif_info = pd.DataFrame()\n",
        "vif_info['VIF'] = [variance_inflation_factor(X.values, i) for i in range(X.shape[1])]\n",
        "vif_info['Column'] = X.columns\n",
        "vif_info.sort_values('VIF', ascending=False)"
      ]
    },
    {
      "cell_type": "markdown",
      "metadata": {
        "id": "ohOMJo1MF6Wu"
      },
      "source": [
        "> VIFs stands for variance inflation factors which identifies correlation between independent variables and the strength of the correlation. If VIF is below 5, it is considered uncorrelated. However, if it is in between 5 and 10, then it shows some correlations with other variables. If VIF is greater than 10, then generally the correlation is considered to be significant and those columns need to be handled. "
      ]
    },
    {
      "cell_type": "code",
      "execution_count": 13,
      "metadata": {
        "id": "JAuaD6-VDHay"
      },
      "outputs": [],
      "source": [
        "features.remove('age')\n",
        "numerical_vars.remove('age')"
      ]
    },
    {
      "cell_type": "code",
      "execution_count": 14,
      "metadata": {
        "colab": {
          "base_uri": "https://localhost:8080/",
          "height": 269
        },
        "id": "r_usm4cBFnDr",
        "outputId": "b2dad797-8efb-4c71-d64c-3eddc0f8fdc9"
      },
      "outputs": [
        {
          "data": {
            "text/html": [
              "\n",
              "  <div id=\"df-6d90dcc3-b1cc-458c-b5cc-78d6e6da6b42\">\n",
              "    <div class=\"colab-df-container\">\n",
              "      <div>\n",
              "<style scoped>\n",
              "    .dataframe tbody tr th:only-of-type {\n",
              "        vertical-align: middle;\n",
              "    }\n",
              "\n",
              "    .dataframe tbody tr th {\n",
              "        vertical-align: top;\n",
              "    }\n",
              "\n",
              "    .dataframe thead th {\n",
              "        text-align: right;\n",
              "    }\n",
              "</style>\n",
              "<table border=\"1\" class=\"dataframe\">\n",
              "  <thead>\n",
              "    <tr style=\"text-align: right;\">\n",
              "      <th></th>\n",
              "      <th>VIF</th>\n",
              "      <th>Column</th>\n",
              "    </tr>\n",
              "  </thead>\n",
              "  <tbody>\n",
              "    <tr>\n",
              "      <th>3</th>\n",
              "      <td>9.535979</td>\n",
              "      <td>years_at_company</td>\n",
              "    </tr>\n",
              "    <tr>\n",
              "      <th>4</th>\n",
              "      <td>7.649504</td>\n",
              "      <td>years_in_current_job</td>\n",
              "    </tr>\n",
              "    <tr>\n",
              "      <th>6</th>\n",
              "      <td>6.887962</td>\n",
              "      <td>years_with_current_supervisor</td>\n",
              "    </tr>\n",
              "    <tr>\n",
              "      <th>2</th>\n",
              "      <td>5.011180</td>\n",
              "      <td>total_years_working</td>\n",
              "    </tr>\n",
              "    <tr>\n",
              "      <th>1</th>\n",
              "      <td>3.940187</td>\n",
              "      <td>last_raise_pct</td>\n",
              "    </tr>\n",
              "    <tr>\n",
              "      <th>5</th>\n",
              "      <td>2.590647</td>\n",
              "      <td>years_since_last_promotion</td>\n",
              "    </tr>\n",
              "    <tr>\n",
              "      <th>0</th>\n",
              "      <td>2.366498</td>\n",
              "      <td>commuting_distance</td>\n",
              "    </tr>\n",
              "  </tbody>\n",
              "</table>\n",
              "</div>\n",
              "      <button class=\"colab-df-convert\" onclick=\"convertToInteractive('df-6d90dcc3-b1cc-458c-b5cc-78d6e6da6b42')\"\n",
              "              title=\"Convert this dataframe to an interactive table.\"\n",
              "              style=\"display:none;\">\n",
              "        \n",
              "  <svg xmlns=\"http://www.w3.org/2000/svg\" height=\"24px\"viewBox=\"0 0 24 24\"\n",
              "       width=\"24px\">\n",
              "    <path d=\"M0 0h24v24H0V0z\" fill=\"none\"/>\n",
              "    <path d=\"M18.56 5.44l.94 2.06.94-2.06 2.06-.94-2.06-.94-.94-2.06-.94 2.06-2.06.94zm-11 1L8.5 8.5l.94-2.06 2.06-.94-2.06-.94L8.5 2.5l-.94 2.06-2.06.94zm10 10l.94 2.06.94-2.06 2.06-.94-2.06-.94-.94-2.06-.94 2.06-2.06.94z\"/><path d=\"M17.41 7.96l-1.37-1.37c-.4-.4-.92-.59-1.43-.59-.52 0-1.04.2-1.43.59L10.3 9.45l-7.72 7.72c-.78.78-.78 2.05 0 2.83L4 21.41c.39.39.9.59 1.41.59.51 0 1.02-.2 1.41-.59l7.78-7.78 2.81-2.81c.8-.78.8-2.07 0-2.86zM5.41 20L4 18.59l7.72-7.72 1.47 1.35L5.41 20z\"/>\n",
              "  </svg>\n",
              "      </button>\n",
              "      \n",
              "  <style>\n",
              "    .colab-df-container {\n",
              "      display:flex;\n",
              "      flex-wrap:wrap;\n",
              "      gap: 12px;\n",
              "    }\n",
              "\n",
              "    .colab-df-convert {\n",
              "      background-color: #E8F0FE;\n",
              "      border: none;\n",
              "      border-radius: 50%;\n",
              "      cursor: pointer;\n",
              "      display: none;\n",
              "      fill: #1967D2;\n",
              "      height: 32px;\n",
              "      padding: 0 0 0 0;\n",
              "      width: 32px;\n",
              "    }\n",
              "\n",
              "    .colab-df-convert:hover {\n",
              "      background-color: #E2EBFA;\n",
              "      box-shadow: 0px 1px 2px rgba(60, 64, 67, 0.3), 0px 1px 3px 1px rgba(60, 64, 67, 0.15);\n",
              "      fill: #174EA6;\n",
              "    }\n",
              "\n",
              "    [theme=dark] .colab-df-convert {\n",
              "      background-color: #3B4455;\n",
              "      fill: #D2E3FC;\n",
              "    }\n",
              "\n",
              "    [theme=dark] .colab-df-convert:hover {\n",
              "      background-color: #434B5C;\n",
              "      box-shadow: 0px 1px 3px 1px rgba(0, 0, 0, 0.15);\n",
              "      filter: drop-shadow(0px 1px 2px rgba(0, 0, 0, 0.3));\n",
              "      fill: #FFFFFF;\n",
              "    }\n",
              "  </style>\n",
              "\n",
              "      <script>\n",
              "        const buttonEl =\n",
              "          document.querySelector('#df-6d90dcc3-b1cc-458c-b5cc-78d6e6da6b42 button.colab-df-convert');\n",
              "        buttonEl.style.display =\n",
              "          google.colab.kernel.accessAllowed ? 'block' : 'none';\n",
              "\n",
              "        async function convertToInteractive(key) {\n",
              "          const element = document.querySelector('#df-6d90dcc3-b1cc-458c-b5cc-78d6e6da6b42');\n",
              "          const dataTable =\n",
              "            await google.colab.kernel.invokeFunction('convertToInteractive',\n",
              "                                                     [key], {});\n",
              "          if (!dataTable) return;\n",
              "\n",
              "          const docLinkHtml = 'Like what you see? Visit the ' +\n",
              "            '<a target=\"_blank\" href=https://colab.research.google.com/notebooks/data_table.ipynb>data table notebook</a>'\n",
              "            + ' to learn more about interactive tables.';\n",
              "          element.innerHTML = '';\n",
              "          dataTable['output_type'] = 'display_data';\n",
              "          await google.colab.output.renderOutput(dataTable, element);\n",
              "          const docLink = document.createElement('div');\n",
              "          docLink.innerHTML = docLinkHtml;\n",
              "          element.appendChild(docLink);\n",
              "        }\n",
              "      </script>\n",
              "    </div>\n",
              "  </div>\n",
              "  "
            ],
            "text/plain": [
              "        VIF                         Column\n",
              "3  9.535979               years_at_company\n",
              "4  7.649504           years_in_current_job\n",
              "6  6.887962  years_with_current_supervisor\n",
              "2  5.011180            total_years_working\n",
              "1  3.940187                 last_raise_pct\n",
              "5  2.590647     years_since_last_promotion\n",
              "0  2.366498             commuting_distance"
            ]
          },
          "execution_count": 14,
          "metadata": {},
          "output_type": "execute_result"
        }
      ],
      "source": [
        "X = df[numerical_vars]\n",
        "\n",
        "vif_info = pd.DataFrame()\n",
        "vif_info['VIF'] = [variance_inflation_factor(X.values, i) for i in range(X.shape[1])]\n",
        "vif_info['Column'] = X.columns\n",
        "vif_info.sort_values('VIF', ascending=False)"
      ]
    },
    {
      "cell_type": "markdown",
      "metadata": {
        "id": "FC0ggGwnsgeP"
      },
      "source": [
        "# Question 4\n",
        "- Split the data into training and test sets.  \n",
        "- Use 20% of the data for test and a random state of 124.  "
      ]
    },
    {
      "cell_type": "code",
      "execution_count": 15,
      "metadata": {
        "colab": {
          "base_uri": "https://localhost:8080/"
        },
        "id": "FprgePkVsgeP",
        "outputId": "4dc53369-be22-4e1a-cb03-e0d78cc136d9"
      },
      "outputs": [
        {
          "name": "stdout",
          "output_type": "stream",
          "text": [
            "Records in training data: 800\n",
            "Records in test data: 200\n"
          ]
        }
      ],
      "source": [
        "# insert code here\n",
        "from sklearn.model_selection import train_test_split\n",
        "X = df[features]\n",
        "y = df['left_company']\n",
        "\n",
        "X_train, X_test, y_train, y_test = train_test_split(X, y, test_size=0.2, random_state=124)\n",
        "\n",
        "print(f'Records in training data: {X_train.shape[0]:,}')\n",
        "print(f'Records in test data: {X_test.shape[0]:,}')"
      ]
    },
    {
      "cell_type": "code",
      "execution_count": 16,
      "metadata": {
        "colab": {
          "base_uri": "https://localhost:8080/"
        },
        "id": "im8dF9r1BQAb",
        "outputId": "9a1aa23a-9b0c-4229-a3e7-12ff0c9f1a45"
      },
      "outputs": [
        {
          "data": {
            "text/plain": [
              "pandas.core.series.Series"
            ]
          },
          "execution_count": 16,
          "metadata": {},
          "output_type": "execute_result"
        }
      ],
      "source": [
        "type(y_test)"
      ]
    },
    {
      "cell_type": "code",
      "execution_count": 17,
      "metadata": {
        "colab": {
          "base_uri": "https://localhost:8080/",
          "height": 295
        },
        "id": "HDOZYqgYAwS4",
        "outputId": "5d2c5a31-dd8f-4636-d07d-0a08072c6986"
      },
      "outputs": [
        {
          "data": {
            "image/png": "[encoded data removed]",
            "text/plain": [
              "<Figure size 432x288 with 1 Axes>"
            ]
          },
          "metadata": {
            "needs_background": "light"
          },
          "output_type": "display_data"
        }
      ],
      "source": [
        "y_train.value_counts().plot.barh()\n",
        "plt.title('target variable class distribution - train data')\n",
        "plt.xlabel('Count')\n",
        "plt.show()"
      ]
    },
    {
      "cell_type": "markdown",
      "metadata": {
        "id": "DbbpRPZLsgeQ"
      },
      "source": [
        "# Question 5\n",
        "- Create a pipeline to process the numerical data.  \n",
        "- Create a pipeline to process the categorical data.  \n",
        "\n",
        "Verify each pipeline contains the columns you would expect using a fit_transform on the training data, i.e., print the shapes of the fit_transforms for each pipeline."
      ]
    },
    {
      "cell_type": "code",
      "execution_count": 18,
      "metadata": {
        "colab": {
          "base_uri": "https://localhost:8080/"
        },
        "id": "zPnUhJ7KsgeQ",
        "outputId": "fc0f7b9d-8450-4c21-97ef-f7f2aa455d21"
      },
      "outputs": [
        {
          "data": {
            "text/plain": [
              "(800, 7)"
            ]
          },
          "execution_count": 18,
          "metadata": {},
          "output_type": "execute_result"
        }
      ],
      "source": [
        "# insert code here\n",
        "from sklearn.pipeline import Pipeline\n",
        "from sklearn.impute import SimpleImputer\n",
        "from sklearn.preprocessing import StandardScaler\n",
        "from sklearn.preprocessing import OneHotEncoder\n",
        "from sklearn.compose import ColumnTransformer\n",
        "\n",
        "# pipeline for numerical data\n",
        "num_pipeline = Pipeline([('impute_missing', SimpleImputer(strategy  = 'median')),\n",
        "                          ('standardize', StandardScaler())])\n",
        "X_train_num = num_pipeline.fit_transform(X_train[numerical_vars])\n",
        "X_train_num.shape"
      ]
    },
    {
      "cell_type": "code",
      "execution_count": 19,
      "metadata": {
        "colab": {
          "base_uri": "https://localhost:8080/"
        },
        "id": "AOImtsAJeP4T",
        "outputId": "96684bec-814e-475d-9fa5-b63c64ad25cd"
      },
      "outputs": [
        {
          "data": {
            "text/plain": [
              "<800x15 sparse matrix of type '<class 'numpy.float64'>'\n",
              "\twith 3383 stored elements in Compressed Sparse Row format>"
            ]
          },
          "execution_count": 19,
          "metadata": {},
          "output_type": "execute_result"
        }
      ],
      "source": [
        "# pipeline for categorical data\n",
        "cat_pipeline = Pipeline([('impute_missing_cats', SimpleImputer(strategy = 'most_frequent')), \n",
        "                         ('dummy_encoding', OneHotEncoder(handle_unknown = 'ignore', drop = 'first'))])\n",
        "X_train_cat = cat_pipeline.fit_transform(X_train[categorical_vars])\n",
        "X_train_cat"
      ]
    },
    {
      "cell_type": "code",
      "execution_count": 20,
      "metadata": {
        "colab": {
          "base_uri": "https://localhost:8080/"
        },
        "id": "ex8BakUFfLk2",
        "outputId": "8870448b-796c-4df4-c15e-9733e7f68299"
      },
      "outputs": [
        {
          "data": {
            "text/plain": [
              "15"
            ]
          },
          "execution_count": 20,
          "metadata": {},
          "output_type": "execute_result"
        }
      ],
      "source": [
        "#'frequency_of_travel', 'department', 'gender', 'position', 'married_or_single'\n",
        "(X_train['frequency_of_travel'].nunique()) +  (X_train['department'].nunique()) + (X_train['gender'].nunique()) + (X_train['position'].nunique()) + (X_train['married_or_single'].nunique()) - (5)"
      ]
    },
    {
      "cell_type": "markdown",
      "metadata": {
        "id": "RQj1mO6NhqaH"
      },
      "source": [
        "> This implies that our pipeline worked correct as we see 15 columns in the sparse matrix."
      ]
    },
    {
      "cell_type": "code",
      "execution_count": 21,
      "metadata": {
        "colab": {
          "base_uri": "https://localhost:8080/"
        },
        "id": "Ge-i6tn3eZ8e",
        "outputId": "82617ccd-8b0e-4846-8031-dd815a324804"
      },
      "outputs": [
        {
          "data": {
            "text/plain": [
              "(800, 5)"
            ]
          },
          "execution_count": 21,
          "metadata": {},
          "output_type": "execute_result"
        }
      ],
      "source": [
        "# pipeline for encoded categorical data\n",
        "encoded_cat_pipeline = Pipeline([('impute_missing_encoded_cats', SimpleImputer(strategy = 'most_frequent'))])\n",
        "X_train_encoded_cat = encoded_cat_pipeline.fit_transform(X_train[encoded_categorical_vars])\n",
        "X_train_encoded_cat.shape"
      ]
    },
    {
      "cell_type": "code",
      "execution_count": 22,
      "metadata": {
        "colab": {
          "base_uri": "https://localhost:8080/"
        },
        "id": "F2rIlwzydkGo",
        "outputId": "9763c252-9a6e-42ae-ca1b-d6f11b79069b"
      },
      "outputs": [
        {
          "data": {
            "text/plain": [
              "(800, 27)"
            ]
          },
          "execution_count": 22,
          "metadata": {},
          "output_type": "execute_result"
        }
      ],
      "source": [
        "# Creating the processing pipeline with all these three pipelines\n",
        "Processing_pipeline = ColumnTransformer(transformers = [('num', num_pipeline, numerical_vars), \n",
        "                                                  ('cat', cat_pipeline, categorical_vars),\n",
        "                                                  ('encoded_cat', encoded_cat_pipeline, encoded_categorical_vars)])\n",
        "X_train_transformed = Processing_pipeline.fit_transform(X_train)\n",
        "X_train_transformed.shape"
      ]
    },
    {
      "cell_type": "markdown",
      "metadata": {
        "id": "H4HUiFGdsgeR"
      },
      "source": [
        "# Question 6\n",
        "- Create a pipeline that combines the pre-processing and implements a logistic regression model.  \n",
        "- Print the accuracy on the training set and the test set.\n",
        "- Do you have any concerns of overfitting based on the differences between the two accuracy scores?"
      ]
    },
    {
      "cell_type": "code",
      "execution_count": 23,
      "metadata": {
        "id": "QbhkTLV8sgeR"
      },
      "outputs": [],
      "source": [
        "# insert code here\n",
        "from sklearn.linear_model import LogisticRegression\n",
        "\n",
        "Modeling_pipeline = Pipeline([('data_processing', Processing_pipeline), ('lm', LogisticRegression(penalty='none', max_iter= 1000))])\n",
        "Modeling_pipeline.fit(X_train, y_train)\n",
        "y_hat_test = Modeling_pipeline.predict(X_test) \n",
        "y_hat_train = Modeling_pipeline.predict(X_train)"
      ]
    },
    {
      "cell_type": "code",
      "execution_count": 24,
      "metadata": {
        "colab": {
          "base_uri": "https://localhost:8080/"
        },
        "id": "4PpDujaQta6s",
        "outputId": "769426de-ac25-41c3-8406-80b9554f4782"
      },
      "outputs": [
        {
          "name": "stdout",
          "output_type": "stream",
          "text": [
            "0.72625\n",
            "0.67\n"
          ]
        }
      ],
      "source": [
        "from sklearn.metrics import accuracy_score\n",
        "print(accuracy_score(y_train, y_hat_train))\n",
        "print(accuracy_score(y_test,y_hat_test))"
      ]
    },
    {
      "cell_type": "code",
      "execution_count": 25,
      "metadata": {
        "colab": {
          "base_uri": "https://localhost:8080/"
        },
        "id": "HnVMuwmnPrQ-",
        "outputId": "adf2bbbd-8c33-4c47-cb3f-8351cc4828ae"
      },
      "outputs": [
        {
          "name": "stdout",
          "output_type": "stream",
          "text": [
            "              precision    recall  f1-score   support\n",
            "\n",
            "          No       0.74      0.71      0.73       407\n",
            "         Yes       0.71      0.74      0.73       393\n",
            "\n",
            "    accuracy                           0.73       800\n",
            "   macro avg       0.73      0.73      0.73       800\n",
            "weighted avg       0.73      0.73      0.73       800\n",
            "\n",
            "              precision    recall  f1-score   support\n",
            "\n",
            "          No       0.65      0.62      0.64        93\n",
            "         Yes       0.68      0.71      0.70       107\n",
            "\n",
            "    accuracy                           0.67       200\n",
            "   macro avg       0.67      0.67      0.67       200\n",
            "weighted avg       0.67      0.67      0.67       200\n",
            "\n"
          ]
        }
      ],
      "source": [
        "from sklearn.metrics import classification_report\n",
        "print(classification_report(y_train, y_hat_train))\n",
        "print(classification_report(y_test, y_hat_test))"
      ]
    },
    {
      "cell_type": "markdown",
      "metadata": {
        "id": "BpxxyjW0sgeS"
      },
      "source": [
        "The accuracy scores for the train and the test data are fairly close and therefore we can conclude that there is no overfitting on the train data. "
      ]
    },
    {
      "cell_type": "code",
      "execution_count": 62,
      "metadata": {
        "colab": {
          "base_uri": "https://localhost:8080/"
        },
        "id": "KjMq0PVKQYSd",
        "outputId": "fef27a0d-b61c-4b13-9316-84526f0f5f2b"
      },
      "outputs": [
        {
          "data": {
            "text/plain": [
              "frequency_of_travel                Travel_Rarely\n",
              "department                                 Sales\n",
              "commuting_distance                             9\n",
              "education                                      4\n",
              "satisfaction_with_environment                  1\n",
              "gender                                    Female\n",
              "seniority_level                                2\n",
              "position                         Sales Executive\n",
              "satisfaction_with_job                          1\n",
              "married_or_single                         Single\n",
              "last_raise_pct                                17\n",
              "last_performance_rating                        3\n",
              "total_years_working                            6\n",
              "years_at_company                               5\n",
              "years_in_current_job                           2\n",
              "years_since_last_promotion                     0\n",
              "years_with_current_supervisor                  3\n",
              "Name: 789, dtype: object"
            ]
          },
          "execution_count": 62,
          "metadata": {},
          "output_type": "execute_result"
        }
      ],
      "source": [
        "# predicting for one data point\n",
        "X_test.iloc[1]"
      ]
    },
    {
      "cell_type": "code",
      "execution_count": 63,
      "metadata": {
        "colab": {
          "base_uri": "https://localhost:8080/",
          "height": 162
        },
        "id": "VlWDMTjNSYCG",
        "outputId": "21ccbf8d-ff14-436a-cf1d-7c4417a0f3cd"
      },
      "outputs": [
        {
          "data": {
            "text/html": [
              "\n",
              "  <div id=\"df-4be7aeda-fe81-4f2b-b309-d03188de7dcd\">\n",
              "    <div class=\"colab-df-container\">\n",
              "      <div>\n",
              "<style scoped>\n",
              "    .dataframe tbody tr th:only-of-type {\n",
              "        vertical-align: middle;\n",
              "    }\n",
              "\n",
              "    .dataframe tbody tr th {\n",
              "        vertical-align: top;\n",
              "    }\n",
              "\n",
              "    .dataframe thead th {\n",
              "        text-align: right;\n",
              "    }\n",
              "</style>\n",
              "<table border=\"1\" class=\"dataframe\">\n",
              "  <thead>\n",
              "    <tr style=\"text-align: right;\">\n",
              "      <th></th>\n",
              "      <th>frequency_of_travel</th>\n",
              "      <th>department</th>\n",
              "      <th>commuting_distance</th>\n",
              "      <th>education</th>\n",
              "      <th>satisfaction_with_environment</th>\n",
              "      <th>gender</th>\n",
              "      <th>seniority_level</th>\n",
              "      <th>position</th>\n",
              "      <th>satisfaction_with_job</th>\n",
              "      <th>married_or_single</th>\n",
              "      <th>last_raise_pct</th>\n",
              "      <th>last_performance_rating</th>\n",
              "      <th>total_years_working</th>\n",
              "      <th>years_at_company</th>\n",
              "      <th>years_in_current_job</th>\n",
              "      <th>years_since_last_promotion</th>\n",
              "      <th>years_with_current_supervisor</th>\n",
              "    </tr>\n",
              "  </thead>\n",
              "  <tbody>\n",
              "    <tr>\n",
              "      <th>0</th>\n",
              "      <td>Travel_Rarely</td>\n",
              "      <td>Research &amp; Development</td>\n",
              "      <td>5</td>\n",
              "      <td>3</td>\n",
              "      <td>3</td>\n",
              "      <td>Female</td>\n",
              "      <td>1</td>\n",
              "      <td>Research Scientist</td>\n",
              "      <td>2</td>\n",
              "      <td>Single</td>\n",
              "      <td>12</td>\n",
              "      <td>3</td>\n",
              "      <td>4</td>\n",
              "      <td>4</td>\n",
              "      <td>3</td>\n",
              "      <td>1</td>\n",
              "      <td>2</td>\n",
              "    </tr>\n",
              "  </tbody>\n",
              "</table>\n",
              "</div>\n",
              "      <button class=\"colab-df-convert\" onclick=\"convertToInteractive('df-4be7aeda-fe81-4f2b-b309-d03188de7dcd')\"\n",
              "              title=\"Convert this dataframe to an interactive table.\"\n",
              "              style=\"display:none;\">\n",
              "        \n",
              "  <svg xmlns=\"http://www.w3.org/2000/svg\" height=\"24px\"viewBox=\"0 0 24 24\"\n",
              "       width=\"24px\">\n",
              "    <path d=\"M0 0h24v24H0V0z\" fill=\"none\"/>\n",
              "    <path d=\"M18.56 5.44l.94 2.06.94-2.06 2.06-.94-2.06-.94-.94-2.06-.94 2.06-2.06.94zm-11 1L8.5 8.5l.94-2.06 2.06-.94-2.06-.94L8.5 2.5l-.94 2.06-2.06.94zm10 10l.94 2.06.94-2.06 2.06-.94-2.06-.94-.94-2.06-.94 2.06-2.06.94z\"/><path d=\"M17.41 7.96l-1.37-1.37c-.4-.4-.92-.59-1.43-.59-.52 0-1.04.2-1.43.59L10.3 9.45l-7.72 7.72c-.78.78-.78 2.05 0 2.83L4 21.41c.39.39.9.59 1.41.59.51 0 1.02-.2 1.41-.59l7.78-7.78 2.81-2.81c.8-.78.8-2.07 0-2.86zM5.41 20L4 18.59l7.72-7.72 1.47 1.35L5.41 20z\"/>\n",
              "  </svg>\n",
              "      </button>\n",
              "      \n",
              "  <style>\n",
              "    .colab-df-container {\n",
              "      display:flex;\n",
              "      flex-wrap:wrap;\n",
              "      gap: 12px;\n",
              "    }\n",
              "\n",
              "    .colab-df-convert {\n",
              "      background-color: #E8F0FE;\n",
              "      border: none;\n",
              "      border-radius: 50%;\n",
              "      cursor: pointer;\n",
              "      display: none;\n",
              "      fill: #1967D2;\n",
              "      height: 32px;\n",
              "      padding: 0 0 0 0;\n",
              "      width: 32px;\n",
              "    }\n",
              "\n",
              "    .colab-df-convert:hover {\n",
              "      background-color: #E2EBFA;\n",
              "      box-shadow: 0px 1px 2px rgba(60, 64, 67, 0.3), 0px 1px 3px 1px rgba(60, 64, 67, 0.15);\n",
              "      fill: #174EA6;\n",
              "    }\n",
              "\n",
              "    [theme=dark] .colab-df-convert {\n",
              "      background-color: #3B4455;\n",
              "      fill: #D2E3FC;\n",
              "    }\n",
              "\n",
              "    [theme=dark] .colab-df-convert:hover {\n",
              "      background-color: #434B5C;\n",
              "      box-shadow: 0px 1px 3px 1px rgba(0, 0, 0, 0.15);\n",
              "      filter: drop-shadow(0px 1px 2px rgba(0, 0, 0, 0.3));\n",
              "      fill: #FFFFFF;\n",
              "    }\n",
              "  </style>\n",
              "\n",
              "      <script>\n",
              "        const buttonEl =\n",
              "          document.querySelector('#df-4be7aeda-fe81-4f2b-b309-d03188de7dcd button.colab-df-convert');\n",
              "        buttonEl.style.display =\n",
              "          google.colab.kernel.accessAllowed ? 'block' : 'none';\n",
              "\n",
              "        async function convertToInteractive(key) {\n",
              "          const element = document.querySelector('#df-4be7aeda-fe81-4f2b-b309-d03188de7dcd');\n",
              "          const dataTable =\n",
              "            await google.colab.kernel.invokeFunction('convertToInteractive',\n",
              "                                                     [key], {});\n",
              "          if (!dataTable) return;\n",
              "\n",
              "          const docLinkHtml = 'Like what you see? Visit the ' +\n",
              "            '<a target=\"_blank\" href=https://colab.research.google.com/notebooks/data_table.ipynb>data table notebook</a>'\n",
              "            + ' to learn more about interactive tables.';\n",
              "          element.innerHTML = '';\n",
              "          dataTable['output_type'] = 'display_data';\n",
              "          await google.colab.output.renderOutput(dataTable, element);\n",
              "          const docLink = document.createElement('div');\n",
              "          docLink.innerHTML = docLinkHtml;\n",
              "          element.appendChild(docLink);\n",
              "        }\n",
              "      </script>\n",
              "    </div>\n",
              "  </div>\n",
              "  "
            ],
            "text/plain": [
              "  frequency_of_travel              department commuting_distance education  \\\n",
              "0       Travel_Rarely  Research & Development                  5         3   \n",
              "\n",
              "  satisfaction_with_environment  gender seniority_level            position  \\\n",
              "0                             3  Female               1  Research Scientist   \n",
              "\n",
              "  satisfaction_with_job married_or_single last_raise_pct  \\\n",
              "0                     2            Single             12   \n",
              "\n",
              "  last_performance_rating total_years_working years_at_company  \\\n",
              "0                       3                   4                4   \n",
              "\n",
              "  years_in_current_job years_since_last_promotion  \\\n",
              "0                    3                          1   \n",
              "\n",
              "  years_with_current_supervisor  \n",
              "0                             2  "
            ]
          },
          "execution_count": 63,
          "metadata": {},
          "output_type": "execute_result"
        }
      ],
      "source": [
        "Xpoint = pd.DataFrame(X_test.iloc[0].values.reshape(1,-1), columns=X_test.iloc[0].index)\n",
        "Xpoint"
      ]
    },
    {
      "cell_type": "code",
      "execution_count": 67,
      "metadata": {
        "colab": {
          "base_uri": "https://localhost:8080/"
        },
        "id": "tZ00ZDTzUhXj",
        "outputId": "e49440d5-c01a-4313-eaff-672ad424f0ff"
      },
      "outputs": [
        {
          "data": {
            "text/plain": [
              "array(['Yes'], dtype=object)"
            ]
          },
          "execution_count": 67,
          "metadata": {},
          "output_type": "execute_result"
        }
      ],
      "source": [
        "Modeling_pipeline.predict(Xpoint)"
      ]
    },
    {
      "cell_type": "code",
      "execution_count": 68,
      "metadata": {
        "colab": {
          "base_uri": "https://localhost:8080/",
          "height": 36
        },
        "id": "vQLuOGwsUk9v",
        "outputId": "1ad262f9-1b40-4c83-9510-bda7fcc6ead8"
      },
      "outputs": [
        {
          "data": {
            "application/vnd.google.colaboratory.intrinsic+json": {
              "type": "string"
            },
            "text/plain": [
              "'Yes'"
            ]
          },
          "execution_count": 68,
          "metadata": {},
          "output_type": "execute_result"
        }
      ],
      "source": [
        "y_test.iloc[1]"
      ]
    },
    {
      "cell_type": "markdown",
      "metadata": {
        "id": "Fuu0p6dMPA-9"
      },
      "source": [
        "### Deployment using Dockers and Github actions "
      ]
    },
    {
      "cell_type": "markdown",
      "metadata": {
        "id": "Ltj4Ha6vPHL_"
      },
      "source": [
        "#### Pickling the model file for deployment"
      ]
    },
    {
      "cell_type": "code",
      "execution_count": 26,
      "metadata": {
        "id": "_Jq0nGiqPGqf"
      },
      "outputs": [],
      "source": [
        "import pickle"
      ]
    },
    {
      "cell_type": "code",
      "execution_count": 27,
      "metadata": {
        "id": "yc4Dxc8hPPLd"
      },
      "outputs": [],
      "source": [
        "# storing your model/model pipeline in a pickle file\n",
        "pickle.dump(Modeling_pipeline, open('log_reg.pkl', 'wb'))"
      ]
    },
    {
      "cell_type": "code",
      "execution_count": 28,
      "metadata": {
        "id": "NB8GmzVEP679"
      },
      "outputs": [],
      "source": [
        "# this pickle file created can be loaded as follows\n",
        "pickled_model = pickle.load(open('log_reg.pkl', 'rb'))"
      ]
    },
    {
      "cell_type": "code",
      "execution_count": 69,
      "metadata": {
        "colab": {
          "base_uri": "https://localhost:8080/"
        },
        "id": "RqMDkZ08QST-",
        "outputId": "30d625b3-7790-4c88-8000-e21493f9d2e8"
      },
      "outputs": [
        {
          "data": {
            "text/plain": [
              "array(['Yes', 'Yes', 'Yes', 'Yes', 'Yes', 'Yes', 'Yes', 'Yes', 'Yes',\n",
              "       'Yes', 'Yes', 'No', 'No', 'No', 'Yes', 'Yes', 'No', 'Yes', 'Yes',\n",
              "       'No', 'Yes', 'No', 'No', 'Yes', 'Yes', 'Yes', 'Yes', 'No', 'No',\n",
              "       'Yes', 'Yes', 'Yes', 'Yes', 'Yes', 'No', 'No', 'No', 'Yes', 'Yes',\n",
              "       'No', 'Yes', 'Yes', 'Yes', 'No', 'Yes', 'Yes', 'No', 'Yes', 'No',\n",
              "       'Yes', 'No', 'Yes', 'Yes', 'No', 'Yes', 'No', 'Yes', 'Yes', 'Yes',\n",
              "       'No', 'No', 'No', 'No', 'No', 'Yes', 'No', 'Yes', 'No', 'No',\n",
              "       'Yes', 'No', 'Yes', 'Yes', 'No', 'Yes', 'Yes', 'No', 'No', 'No',\n",
              "       'No', 'Yes', 'No', 'No', 'No', 'No', 'No', 'No', 'No', 'No', 'No',\n",
              "       'Yes', 'Yes', 'Yes', 'No', 'Yes', 'No', 'Yes', 'Yes', 'No', 'Yes',\n",
              "       'Yes', 'Yes', 'No', 'Yes', 'Yes', 'Yes', 'No', 'No', 'No', 'No',\n",
              "       'No', 'No', 'Yes', 'No', 'Yes', 'Yes', 'No', 'No', 'Yes', 'Yes',\n",
              "       'Yes', 'Yes', 'Yes', 'Yes', 'Yes', 'No', 'Yes', 'No', 'Yes', 'No',\n",
              "       'Yes', 'Yes', 'No', 'No', 'No', 'Yes', 'No', 'No', 'Yes', 'Yes',\n",
              "       'Yes', 'Yes', 'No', 'Yes', 'No', 'No', 'Yes', 'Yes', 'No', 'Yes',\n",
              "       'No', 'Yes', 'No', 'Yes', 'No', 'No', 'No', 'Yes', 'Yes', 'Yes',\n",
              "       'Yes', 'Yes', 'Yes', 'No', 'No', 'No', 'Yes', 'No', 'Yes', 'Yes',\n",
              "       'No', 'No', 'Yes', 'No', 'Yes', 'No', 'Yes', 'Yes', 'No', 'No',\n",
              "       'Yes', 'No', 'Yes', 'Yes', 'Yes', 'No', 'No', 'Yes', 'Yes', 'No',\n",
              "       'Yes', 'Yes', 'No', 'Yes', 'Yes', 'Yes', 'No', 'No', 'Yes', 'Yes'],\n",
              "      dtype=object)"
            ]
          },
          "execution_count": 69,
          "metadata": {},
          "output_type": "execute_result"
        }
      ],
      "source": [
        "pickled_model.predict(X_test)"
      ]
    },
    {
      "cell_type": "code",
      "execution_count": 70,
      "metadata": {
        "colab": {
          "base_uri": "https://localhost:8080/"
        },
        "id": "nhfXtXHmUymH",
        "outputId": "99247df2-4e60-46e1-f46e-c2ef6e85c047"
      },
      "outputs": [
        {
          "name": "stdout",
          "output_type": "stream",
          "text": [
            "0.67\n"
          ]
        }
      ],
      "source": [
        "print(accuracy_score(y_test,pickled_model.predict(X_test)))"
      ]
    },
    {
      "cell_type": "markdown",
      "metadata": {
        "id": "yeCuZbeWU9II"
      },
      "source": [
        "Same as what we got before!"
      ]
    },
    {
      "cell_type": "code",
      "execution_count": null,
      "metadata": {
        "id": "sRKMGoGJU8EN"
      },
      "outputs": [],
      "source": []
    }
  ],
  "metadata": {
    "colab": {
      "provenance": []
    },
    "kernelspec": {
      "display_name": "Python 3.7.0 (conda)",
      "language": "python",
      "name": "python3"
    },
    "language_info": {
      "codemirror_mode": {
        "name": "ipython",
        "version": 3
      },
      "file_extension": ".py",
      "mimetype": "text/x-python",
      "name": "python",
      "nbconvert_exporter": "python",
      "pygments_lexer": "ipython3",
      "version": "3.7.0"
    },
    "vscode": {
      "interpreter": {
        "hash": "b7310b0402bd383205ae4d96457b7315f598f6b43869ffe10ef43a5764703945"
      }
    }
  },
  "nbformat": 4,
  "nbformat_minor": 0
}
